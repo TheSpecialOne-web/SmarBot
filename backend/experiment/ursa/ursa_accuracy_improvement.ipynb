{
 "cells": [
  {
   "cell_type": "markdown",
   "metadata": {},
   "source": [
    "## Phase1で使用した検索精度向上コード\n",
    "決められたquestionsをもとに、最適なパラメータを探索している"
   ]
  },
  {
   "cell_type": "code",
   "execution_count": null,
   "metadata": {},
   "outputs": [],
   "source": [
    "from libs.optimize_parameters_experiment import search_parameters_exceed_baseline"
   ]
  },
  {
   "cell_type": "code",
   "execution_count": null,
   "metadata": {},
   "outputs": [],
   "source": [
    "questions = [\n",
    "    \"ダム放流警報システム用のGPS装置の購入仕様書が欲しい。\",\n",
    "    \"ZENMUSE XT2の修理を行うので、仕様書が欲しい。\",\n",
    "    \"交換機とMDFが含まれる配線図が欲しい。\",\n",
    "    \"屋外カメラ用のケーブル修繕工事の内命依頼書が欲しい。\",\n",
    "    \"過去に行った杉安ダム周辺の支障木伐採後の写真が欲しい。\",\n",
    "    \"TV会議システムの操作パネルのマニュアルが欲しい。\",\n",
    "    \"電子交換機の設定変更作業の見積書が欲しい。\",\n",
    "    \"高千穂営業所の電子交換機の設定変更に関する見積書が欲しい。\",\n",
    "    \"電話機の見積書が欲しい。\",\n",
    "    \"VE-E10DLの見積書が欲しい。\",\n",
    "    \"熊本管内社内電話システム整備の工事仕様書が欲しい。\",\n",
    "    \"ドローンのUTC技能検定の過去の見積書が欲しい。\",\n",
    "    \"本店衛星通信システム整備の設備情報一覧が見たい\",\n",
    "    \"本店自動交換機整備の固定資産台帳が欲しい\",\n",
    "    \"福岡管内社内放送設備撤去の通信回線構成図が見たい\",\n",
    "    \"本支店統合ルータリプレースに伴う作業対応の作業申請書を見たい\",\n",
    "    \"NEC製品の回収及び再資源化処理の請求書が欲しい\",\n",
    "]"
   ]
  },
  {
   "cell_type": "code",
   "execution_count": null,
   "metadata": {},
   "outputs": [],
   "source": [
    "answers = [\n",
    "    \"/Volumes/ursa-poc-data/宮崎/修繕工事/2019年度/07_ダム放流警報システム用GPS取替/01_物品発注/01_購入仕様書 (version 1).xlsx\",\n",
    "    \"/Volumes/ursa-poc-data/宮崎/修繕工事/2019年度/08_Matrice210破損修理/赤外線カメラ/01_修理仕様書-2_xdw.pdf\",\n",
    "    \"/Volumes/ursa-poc-data/宮崎/修繕工事/2019年度/09_宮崎配電事業所非災直通電話修繕/13_宮崎配電事業所配線修繕概要図.xlsx\",\n",
    "    \"/Volumes/ursa-poc-data/宮崎/修繕工事/2019年度/10_上椎葉発電所通信用ＩＴＶ屋外カメラケーブル修繕/01_内命依頼書（上椎葉）押印済み_xdw.pdf\",\n",
    "    \"/Volumes/ursa-poc-data/宮崎/修繕工事/2019年度/12_杉安ダムほか電波通路支障木伐採修繕/修繕伝票/12_現地写真（杉安ダム）_xdw.pdf\",\n",
    "    \"/Volumes/ursa-poc-data/宮崎/設備工事/2019年度/【不明】406_テレビ会議システム整備（宮崎支社：２０１９）/05_依頼報告文書/操作パネルマニュアル（Webex-Tauch10用）.pdf\",\n",
    "    \"/Volumes/ursa-poc-data/宮崎/設備工事/2019年度/【林田】407_社内電話システム整備（宮崎支社：２０１９）/03_物品関係/03_IP-PBXデータ変更/【御見積】交換機設定変更作業(高千穂営).pdf\",\n",
    "    \"/Volumes/ursa-poc-data/宮崎/設備工事/2019年度/【林田】407_社内電話システム整備（宮崎支社：２０１９）/03_物品関係/03_IP-PBXデータ変更/【御見積】交換機設定変更作業(高千穂営).pdf\",\n",
    "    \"/Volumes/ursa-poc-data/宮崎/設備工事/2019年度/【林田】407_社内電話システム整備（宮崎支社：２０１９）/03_物品関係/04_固定電話機/00_電話機御見積書_xdw.pdf\",\n",
    "    \"/Volumes/ursa-poc-data/宮崎/設備工事/2019年度/【林田】407_社内電話システム整備（宮崎支社：２０１９）/03_物品関係/04_固定電話機/00_電話機御見積書_xdw.pdf\",\n",
    "    \"/Volumes/ursa-poc-data/熊本/設備工事/2022年度/【末吉】202_熊本管内社内電話システム整備（２０２２）水俣/09　伝票関係/03_新設撤去工事/01_工事請求/00_工事仕様書（水俣）_xdw.pdf\",\n",
    "    \"/Volumes/ursa-poc-data/熊本/設備工事/2022年度/【末吉】203_備品備付整備（熊本2022）：DJI T30/09　伝票関係/見積書/T30見積書_xdw.pdf\",\n",
    "    \"/Volumes/ursa-poc-data/福岡/設備工事/2023年度/【不明】11_本店衛星通信システム整備/90 工事資料/06 検討資料/設備情報一覧（本店L2SW）.xlsx\",\n",
    "    \"/Volumes/ursa-poc-data/福岡/設備工事/2021年度/【古園】03 本店自動交換機整備（内線スマホ化）/02 経理関係/固定資産台帳（本店交換機）.xlsx\",\n",
    "    \"/Volumes/ursa-poc-data/福岡/設備工事/2023年度/【不明】14_福岡管内社内放送設備撤去/04 通信指示/01 通信指示検討依頼書/通信回線構成図.xlsx\",\n",
    "    \"/Volumes/ursa-poc-data/福岡/修繕工事/2022年度/20221102_本支店統合ルータリプレースに伴う作業対応/02_入所申請/20221109_作業申請書（九電福支通信ソリューションG）/作業申請書（福岡支社）.pdf\",\n",
    "    \"/Volumes/ursa-poc-data/福岡/設備工事/2021年度/【上原】12_ITVサーバ更新工事/60 各種申請手続き/01 NEC製品の回収及び再資源化処理/請求書_xdw.pdf\",\n",
    "]"
   ]
  },
  {
   "cell_type": "code",
   "execution_count": null,
   "metadata": {},
   "outputs": [],
   "source": [
    "baseline_params = {\n",
    "    \"bm25\": {\"k1\": 1.2, \"b\": 0.75},\n",
    "    \"scoring_profile\": {\"file_name_weight\": 2, \"construction_name_weight\": 0.5, \"interpolation_path_weight\": 0.5},\n",
    "    \"semantic_config\": {\n",
    "        \"title_field\": \"file_name\",\n",
    "        \"content_field\": [\"file_name\", \"full_path\", \"content\"],\n",
    "        \"keywords_field\": [],\n",
    "    },\n",
    "    \"vector_search\": {\"path_weight\": 5.9, \"content_weight\": 3.2},\n",
    "}\n",
    "baseline_rank = [1, 0, 162, 0, 0, 0, 1, 0, 0, 0, 61, 19, 0, 0, 11, 0, 0]"
   ]
  },
  {
   "cell_type": "code",
   "execution_count": null,
   "metadata": {},
   "outputs": [],
   "source": [
    "# 実験できるパラメータの種類が多くあるので、ファンクションの説明を読んでカスタマイズしてください\n",
    "experiment_params, rank = search_parameters_exceed_baseline(\n",
    "    questions,\n",
    "    answers,\n",
    "    baseline_rank,\n",
    "    experiment_counts=20,\n",
    "    params=baseline_params,\n",
    "    bm25_experiment=False,\n",
    "    semantic_experiment=False,\n",
    "    scoring_profile_experiment=False,\n",
    "    vector_search_experiment=True,\n",
    ")"
   ]
  }
 ],
 "metadata": {
  "kernelspec": {
   "display_name": "Python 3",
   "language": "python",
   "name": "python3"
  },
  "language_info": {
   "codemirror_mode": {
    "name": "ipython",
    "version": 3
   },
   "file_extension": ".py",
   "mimetype": "text/x-python",
   "name": "python",
   "nbconvert_exporter": "python",
   "pygments_lexer": "ipython3",
   "version": "3.10.11"
  }
 },
 "nbformat": 4,
 "nbformat_minor": 2
}
