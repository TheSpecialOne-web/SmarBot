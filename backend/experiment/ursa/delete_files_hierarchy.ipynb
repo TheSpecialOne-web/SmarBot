{
 "cells": [
  {
   "cell_type": "code",
   "execution_count": 1,
   "metadata": {},
   "outputs": [],
   "source": [
    "from libs.delete_files_hierarchy import delete_error_file\n",
    "import libs.utils as utils\n",
    "\n",
    "tenant_id = \"\"\n",
    "id_token = \"\"\n",
    "bot_id = \"\"\n",
    "env = \"\"  # [\"local\", \"dev\", \"stg\", \"prod\"]から選択\n",
    "\n",
    "backend_uri = utils.get_backend_uri(env)"
   ]
  },
  {
   "cell_type": "code",
   "execution_count": null,
   "metadata": {},
   "outputs": [],
   "source": [
    "delete_error_file(backend_uri, tenant_id, id_token, bot_id, None)"
   ]
  }
 ],
 "metadata": {
  "kernelspec": {
   "display_name": "Python 3",
   "language": "python",
   "name": "python3"
  },
  "language_info": {
   "codemirror_mode": {
    "name": "ipython",
    "version": 3
   },
   "file_extension": ".py",
   "mimetype": "text/x-python",
   "name": "python",
   "nbconvert_exporter": "python",
   "pygments_lexer": "ipython3",
   "version": "3.10.11"
  }
 },
 "nbformat": 4,
 "nbformat_minor": 2
}
