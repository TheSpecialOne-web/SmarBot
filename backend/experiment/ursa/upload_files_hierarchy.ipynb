{
 "cells": [
  {
   "cell_type": "code",
   "execution_count": null,
   "metadata": {},
   "outputs": [],
   "source": [
    "import libs.upload_files_hierarchy as upload_files_hierarchy\n",
    "import libs.utils as utils\n",
    "\n",
    "tenant_id = \"\"\n",
    "id_token = \"\"\n",
    "bot_id = \"\"\n",
    "env = \"\"  # [\"local\", \"dev\", \"stg\", \"prod\"]から選択\n",
    "\n",
    "backend_uri = utils.get_backend_uri(env)"
   ]
  },
  {
   "cell_type": "code",
   "execution_count": null,
   "metadata": {},
   "outputs": [],
   "source": [
    "### 以下のいずれかを選択 ###\n",
    "# 1. 一つのファイルをアップロード\n",
    "file = \"\"\n",
    "upload_files_hierarchy.upload_document_hierarchy(backend_uri, tenant_id, id_token, bot_id, file, parent_folder_id=None)\n",
    "\n",
    "# 2. フォルダ内のファイルをアップロード\n",
    "# upload_files_hierarchy.upload_documents_hierarchy(\n",
    "#     backend_uri, tenant_id, id_token, bot_id, target_files, parent_folder_id=None\n",
    "# )\n",
    "\n",
    "# 3. フォルダ内のファイルを並列処理でアップロード（フォルダ内のファイルを再帰的に検索）\n",
    "# base_file_path = \"\"\n",
    "# extensions = (\"pdf\", \"xlsx\", \"docx\", \"pptx\", \"xls\")\n",
    "# num_workers = 16\n",
    "# chunkedfile = upload_files_hierarchy.upload_files_in_folders_parallel_hierarchy(\n",
    "#     base_file_path, tenant_id, id_token, bot_id, env, extensions, num_workers\n",
    "# )"
   ]
  },
  {
   "cell_type": "markdown",
   "metadata": {},
   "source": [
    "### QAのアップロード用セル"
   ]
  },
  {
   "cell_type": "code",
   "execution_count": null,
   "metadata": {},
   "outputs": [],
   "source": [
    "# アップロード管理Notionページより、必要情報を記載\n",
    "tenant_id = \"\"\n",
    "id_token = \"\"\n",
    "bot_id = \"\"\n",
    "env = \"\"  # [\"local\", \"dev\", \"stg\", \"prod\"]から選択\n",
    "\n",
    "backend_uri = utils.get_backend_uri(env)\n",
    "\n",
    "base_file_path = \"\"  # 例）/Volumes/ursa-poc-data/共有ドライブ/宮崎/設備工事\n",
    "extensions = (\"pdf\", \"xlsx\", \"docx\", \"pptx\")  # 変えない\n",
    "num_workers = 16\n",
    "upload_files_hierarchy.upload_files_in_folders_parallel_hierarchy(\n",
    "    base_file_path, tenant_id, id_token, bot_id, env, extensions, num_workers, QA_flag=True\n",
    ")"
   ]
  },
  {
   "cell_type": "markdown",
   "metadata": {},
   "source": [
    "### 資料検索のアップロード用セル"
   ]
  },
  {
   "cell_type": "code",
   "execution_count": null,
   "metadata": {},
   "outputs": [],
   "source": [
    "import libs.upload_files_hierarchy as upload_files_hierarchy\n",
    "import libs.utils as utils\n",
    "\n",
    "# アップロード管理Notionページより、必要情報を記載\n",
    "tenant_id = \"\"\n",
    "id_token = \"\"\n",
    "bot_id = \"\"\n",
    "env = \"\"  # [\"local\", \"dev\", \"stg\", \"prod\"]から選択\n",
    "\n",
    "backend_uri = utils.get_backend_uri(env)\n",
    "\n",
    "base_file_path = \"\"  # 例）/Volumes/ursa-poc-data/共有ドライブ/宮崎/設備工事\n",
    "extensions = (\"pdf\", \"xlsx\", \"docx\", \"xls\", \"pptx\")  # 変えない\n",
    "num_workers = 16\n",
    "upload_files_hierarchy.upload_files_in_folders_parallel_hierarchy(\n",
    "    base_file_path, tenant_id, id_token, bot_id, env, extensions, num_workers, QA_flag=False\n",
    ")"
   ]
  },
  {
   "cell_type": "markdown",
   "metadata": {},
   "source": [
    "### 資料検索のxls更新用セル\n",
    "特別なカスタマイズを行わない場合：  \n",
    "\n",
    "\n",
    "ベクトルデータベースを用いる場合：\n",
    "注意：このノートブックと同階層にenvファイルを作成し、以下の4つを正しく作成すること\n",
    "- AZURE_OPENAI_API_KEY=\"\"\n",
    "- AZURE_OPENAI_ENDPOINT=\"\"\n",
    "- AZURE_OPENAI_API_VERSION=\"\"\n",
    "- EMBEDDINGS_MODEL=\"\""
   ]
  },
  {
   "cell_type": "code",
   "execution_count": null,
   "metadata": {},
   "outputs": [],
   "source": [
    "from libs.upload_files_hierarchy_xls import upload_files_in_folders_parallel_xls\n",
    "import libs.utils as utils\n",
    "\n",
    "tenant_id = \"\"\n",
    "id_token = \"\"\n",
    "bot_id = \"\"\n",
    "env = \"\"  # [\"local\", \"dev\", \"stg\", \"prod\"]から選択\n",
    "os = \"mac\"  # [\"mac\", \"windows\"]から選択\n",
    "data_source = \"drive\"  # [\"drive\"]から選択\n",
    "num_workers = 16\n",
    "\n",
    "backend_uri = utils.get_backend_uri(env)\n",
    "\n",
    "upload_files_in_folders_parallel_xls(tenant_id, id_token, bot_id, env, num_workers, os, data_source)"
   ]
  },
  {
   "cell_type": "markdown",
   "metadata": {},
   "source": [
    "### NMSデータのデータ分割セル\n",
    "※ すでに原田の方で実施済みの項目なので、実行する必要はなし"
   ]
  },
  {
   "cell_type": "code",
   "execution_count": null,
   "metadata": {},
   "outputs": [],
   "source": [
    "# base_directory = \"/Volumes/ursa-poc-data/NMS\"\n",
    "# original_path = \"/Volumes/ursa-poc-data/240918受領分データ/06_障害懸案処置/NMS_障害処置履歴_長崎サンプル.xlsx\"\n",
    "\n",
    "# split_NMS_files(original_path, base_directory)"
   ]
  },
  {
   "cell_type": "markdown",
   "metadata": {},
   "source": [
    "### 安全サイトデータのデータ分割セル"
   ]
  },
  {
   "cell_type": "code",
   "execution_count": 7,
   "metadata": {},
   "outputs": [],
   "source": [
    "# TODO:"
   ]
  },
  {
   "cell_type": "markdown",
   "metadata": {},
   "source": [
    "### TIOSデータのデータ分割セル"
   ]
  },
  {
   "cell_type": "code",
   "execution_count": null,
   "metadata": {},
   "outputs": [],
   "source": [
    "# TODO:"
   ]
  }
 ],
 "metadata": {
  "kernelspec": {
   "display_name": "3.10.13",
   "language": "python",
   "name": "python3"
  },
  "language_info": {
   "codemirror_mode": {
    "name": "ipython",
    "version": 3
   },
   "file_extension": ".py",
   "mimetype": "text/x-python",
   "name": "python",
   "nbconvert_exporter": "python",
   "pygments_lexer": "ipython3",
   "version": "3.10.13"
  }
 },
 "nbformat": 4,
 "nbformat_minor": 2
}
