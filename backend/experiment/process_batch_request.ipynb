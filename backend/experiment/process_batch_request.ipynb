{
 "cells": [
  {
   "cell_type": "markdown",
   "metadata": {},
   "source": [
    "## このノートブックの内容：\n",
    "- エクセルにまとまっている質問それぞれに対して、指定したアシスタントの API を実行\n",
    "- 結果をエクセルにまとめて出力する\n",
    "\n",
    "> - API の作り方・叩き方の参考資料：https://www.notion.so/API-5da43a6fc4e7413bb7c1744ebfba1c3d"
   ]
  },
  {
   "cell_type": "markdown",
   "metadata": {},
   "source": [
    "## 0. 事前設定\n",
    "\n",
    "### 0.1. env の設定\n",
    "- 上記資料などを参考にして、API Key と endpoint id を取得します。\n",
    "- 取得したら、それらを .env ファイルに書き込みます\n",
    "\n",
    "    ```py\n",
    "    # .env にて、以下のように設定\n",
    "    ASSISTANT_API_KEY=\"xxx\"\n",
    "    ASSISTANT_ENDPOINT_ID=\"xxx\"\n",
    "    ```\n",
    "\n",
    "### 0.2. 質問票エクセルの用意\n",
    "- 後述のコードは、`question_list.xlsx`のように、「質問」というカラムに質問がまとまっていることが前提になっています。\n",
    "    - `question_list.xlsx`をよしなにいじって質問を設定すると簡単かなと思います\n",
    "- 逆に、そこさえ問題なければ、質問がいくつあっても、他にカラムがあっても、処理は行われるはずです。"
   ]
  },
  {
   "cell_type": "markdown",
   "metadata": {},
   "source": [
    "## 1. import & 環境変数用意"
   ]
  },
  {
   "cell_type": "code",
   "execution_count": null,
   "metadata": {},
   "outputs": [],
   "source": [
    "import json\n",
    "import os\n",
    "\n",
    "from dotenv import load_dotenv\n",
    "import pandas as pd\n",
    "import requests\n",
    "\n",
    "load_dotenv(\"../.env\")"
   ]
  },
  {
   "cell_type": "code",
   "execution_count": null,
   "metadata": {},
   "outputs": [],
   "source": []
  },
  {
   "cell_type": "markdown",
   "metadata": {},
   "source": [
    "## 2. 関数定義"
   ]
  },
  {
   "cell_type": "code",
   "execution_count": null,
   "metadata": {},
   "outputs": [],
   "source": [
    "def call_assistant(question: str) -> tuple[str, str]:\n",
    "    \"\"\"質問を入力として、アシスタントの API に回答させ、回答と参照元を返す\n",
    "\n",
    "    Args:\n",
    "        question (str): 質問\n",
    "\n",
    "    Returns:\n",
    "        tuple[str, str]: 回答, 参照元\n",
    "    \"\"\"\n",
    "    print(f\"Processing: {question}\")\n",
    "    url = f\"https://chat.neoai.jp/api/endpoints/{os.environ.get('ASSISTANT_ENDPOINT_ID')}/chat/completions\"\n",
    "    headers = {\"Authorization\": f\"Bearer {os.environ.get('ASSISTANT_API_KEY')}\", \"Content-Type\": \"application/json\"}\n",
    "    data = {\"messages\": [{\"role\": \"user\", \"content\": f\"{question}\"}], \"stream\": False}\n",
    "\n",
    "    try:\n",
    "        response = requests.post(url, headers=headers, data=json.dumps(data)).json()\n",
    "    except Exception as e:\n",
    "        print(e)\n",
    "        return None, None\n",
    "\n",
    "    # 辞書で帰ってくる参照元をテキストに変換\n",
    "    citation = \"\\n\\n\".join(\n",
    "        f\"参照{i}: {d['chunk_name']}\\n{d['content']}\" for i, d in enumerate(response[\"data_points\"], 1)\n",
    "    )\n",
    "\n",
    "    return response[\"content\"], citation\n",
    "\n",
    "\n",
    "def fill_out_question_sheet(file_path):\n",
    "    \"\"\"質問シートを読み込み、アシスタントに質問を投げて回答を埋める\n",
    "\n",
    "    Args:\n",
    "        file_path (_type_): ファイルパス\n",
    "\n",
    "    Raises:\n",
    "        ValueError: サポートされていないファイル形式です。.xlsx または .csv ファイルを使用してください。\n",
    "    \"\"\"\n",
    "    _, ext = os.path.splitext(file_path)\n",
    "\n",
    "    if ext not in [\".xlsx\", \".csv\"]:\n",
    "        raise ValueError(\"サポートされていないファイル形式です。.xlsx または .csv ファイルを使用してください。\")\n",
    "\n",
    "    read_func = pd.read_excel if ext == \".xlsx\" else pd.read_csv\n",
    "    sheet = read_func(file_path)\n",
    "\n",
    "    sheet[[\"回答\", \"参照元\"]] = sheet[\"質問\"].apply(lambda x: pd.Series(call_assistant(x)))\n",
    "\n",
    "    output_path = f\"{os.path.splitext(file_path)[0]}_result{ext}\"\n",
    "    save_func = sheet.to_excel if ext == \".xlsx\" else sheet.to_csv\n",
    "    save_func(output_path, index=False)"
   ]
  },
  {
   "cell_type": "markdown",
   "metadata": {},
   "source": [
    "## 3. エクセルファイルの処理（シートの質問を全て処理して、エクセルファイルにまとめて出力）"
   ]
  },
  {
   "cell_type": "code",
   "execution_count": null,
   "metadata": {},
   "outputs": [],
   "source": [
    "# ここは好きに変えてください\n",
    "PATH = \"question_list.xlsx\"\n",
    "\n",
    "try:\n",
    "    fill_out_question_sheet(PATH)\n",
    "    print(\"処理が完了しました。\")\n",
    "except Exception as e:\n",
    "    print(f\"エラーが発生しました: {e}\")"
   ]
  }
 ],
 "metadata": {
  "kernelspec": {
   "display_name": "Python 3",
   "language": "python",
   "name": "python3"
  },
  "language_info": {
   "codemirror_mode": {
    "name": "ipython",
    "version": 3
   },
   "file_extension": ".py",
   "mimetype": "text/x-python",
   "name": "python",
   "nbconvert_exporter": "python",
   "pygments_lexer": "ipython3",
   "version": "3.11.7"
  }
 },
 "nbformat": 4,
 "nbformat_minor": 2
}
